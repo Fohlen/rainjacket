import pandas as pd
import numpy as np
from tqdm import tqdm
import matplotlib.pyplot as plt
from scipy import stats

# Load forecast data
df_forecasts = pd.read_csv("/Users/fohlen/Downloads/export_2024-11-08/merged.csv")
df_forecasts["recorded_at"] = pd.to_datetime(df_forecasts["recorded_at"], utc=True).dt.floor('H')
df_forecasts["forecast_time"] = pd.to_datetime(df_forecasts["forecast_time"], utc=True)

# Load measured weather data
df_measure = pd.read_csv("data/historical_weather.csv")
df_measure["recorded_at"] = pd.to_datetime(df_measure["recorded_at"], utc=True)

# Reverse mapping
reverse_station_mapping = {
    433: 10384, 2667: 10513, 3379: 10865, 1443: 10803, 
    5906: 10729, 2522: 10727, 4104: 10776, 1270: 10554, 
    5419: 10555
}
reverse_parameter_mapping = {
    'precipitation_height': 'precipitation_height_significant_weather_last_1h',
    'temperature_air_mean_2m': 'temperature_air_mean_200'
}

# Regression data preparation
regression_rows = []

# Filter measurement data for a specific day
rows = df_measure[
    (df_measure["recorded_at"].dt.dayofyear == 200) &
    (df_measure["parameter"] == "temperature_air_mean_2m")
]

measure_times = rows.recorded_at.unique().tolist()

for measure_time in tqdm(measure_times):
    parameter = "temperature_air_mean_2m"
    forecast_param = reverse_parameter_mapping[parameter]

    for n in range(1, 241):
        filter_time = measure_time - pd.Timedelta(hours=n)

        forecast_rows = df_forecasts[
            (df_forecasts["forecast_time"] == measure_time) &
            (df_forecasts["recorded_at"] == filter_time) &
            (df_forecasts["parameter"] == forecast_param)
        ]
        
        value = forecast_rows["value"].mean()
        regression_rows.append((value, n, measure_time, parameter))

# Create regression DataFrame
regression_df = pd.DataFrame(regression_rows, columns=["value", "n", "measure_time", "parameter"])

# Reshape X and calculate y
X = regression_df.value.fillna(0).to_numpy()
if len(X) % 240 == 0:
    X = X.reshape((-1, 24))  # Ensure reshape compatibility
else:
    raise ValueError("Data length not compatible with reshape dimensions.")

y = rows.groupby(rows.recorded_at.dt.hour)["value"].mean()

# Plot correlation analysis
xs = list(range(1, 239))
ys = []

for n in xs:
    if len(X[n, :]) == len(y):  # Ensure compatible shapes
        result = stats.linregress(X[n, :], y)
        ys.append(result.rvalue)

fig, ax = plt.subplots(figsize=(10, 5))
plt.plot(xs, ys)
plt.yscale("log")  # Logarithmic scale (optional)
plt.xlabel("Time Offset (n)")
plt.ylabel("Correlation Coefficient (log scale)")
plt.title("Correlation of Forecast and Measurement")
plt.show()

