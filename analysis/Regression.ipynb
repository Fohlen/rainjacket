{
 "cells": [
  {
   "cell_type": "markdown",
   "id": "0053a23b-d776-4402-b53a-c5497876f783",
   "metadata": {},
   "source": [
    "Load the forecasts"
   ]
  },
  {
   "cell_type": "code",
   "execution_count": 1,
   "id": "63bfe3e6-18b2-4708-ad5e-1014658ec623",
   "metadata": {},
   "outputs": [
    {
     "data": {
      "text/html": [
       "<div>\n",
       "<style scoped>\n",
       "    .dataframe tbody tr th:only-of-type {\n",
       "        vertical-align: middle;\n",
       "    }\n",
       "\n",
       "    .dataframe tbody tr th {\n",
       "        vertical-align: top;\n",
       "    }\n",
       "\n",
       "    .dataframe thead th {\n",
       "        text-align: right;\n",
       "    }\n",
       "</style>\n",
       "<table border=\"1\" class=\"dataframe\">\n",
       "  <thead>\n",
       "    <tr style=\"text-align: right;\">\n",
       "      <th></th>\n",
       "      <th>recorded_at</th>\n",
       "      <th>station_id</th>\n",
       "      <th>forecast_time</th>\n",
       "      <th>parameter</th>\n",
       "      <th>value</th>\n",
       "    </tr>\n",
       "  </thead>\n",
       "  <tbody>\n",
       "    <tr>\n",
       "      <th>0</th>\n",
       "      <td>2024-05-12 15:00:00+00:00</td>\n",
       "      <td>10513</td>\n",
       "      <td>2024-05-12 15:00:00+00:00</td>\n",
       "      <td>precipitation_height_significant_weather_last_1h</td>\n",
       "      <td>0.0</td>\n",
       "    </tr>\n",
       "    <tr>\n",
       "      <th>1</th>\n",
       "      <td>2024-05-12 15:00:00+00:00</td>\n",
       "      <td>10513</td>\n",
       "      <td>2024-05-12 16:00:00+00:00</td>\n",
       "      <td>precipitation_height_significant_weather_last_1h</td>\n",
       "      <td>0.0</td>\n",
       "    </tr>\n",
       "    <tr>\n",
       "      <th>2</th>\n",
       "      <td>2024-05-12 15:00:00+00:00</td>\n",
       "      <td>10513</td>\n",
       "      <td>2024-05-12 17:00:00+00:00</td>\n",
       "      <td>precipitation_height_significant_weather_last_1h</td>\n",
       "      <td>0.0</td>\n",
       "    </tr>\n",
       "    <tr>\n",
       "      <th>3</th>\n",
       "      <td>2024-05-12 15:00:00+00:00</td>\n",
       "      <td>10513</td>\n",
       "      <td>2024-05-12 18:00:00+00:00</td>\n",
       "      <td>precipitation_height_significant_weather_last_1h</td>\n",
       "      <td>0.0</td>\n",
       "    </tr>\n",
       "    <tr>\n",
       "      <th>4</th>\n",
       "      <td>2024-05-12 15:00:00+00:00</td>\n",
       "      <td>10513</td>\n",
       "      <td>2024-05-12 19:00:00+00:00</td>\n",
       "      <td>precipitation_height_significant_weather_last_1h</td>\n",
       "      <td>0.0</td>\n",
       "    </tr>\n",
       "  </tbody>\n",
       "</table>\n",
       "</div>"
      ],
      "text/plain": [
       "                recorded_at  station_id             forecast_time  \\\n",
       "0 2024-05-12 15:00:00+00:00       10513 2024-05-12 15:00:00+00:00   \n",
       "1 2024-05-12 15:00:00+00:00       10513 2024-05-12 16:00:00+00:00   \n",
       "2 2024-05-12 15:00:00+00:00       10513 2024-05-12 17:00:00+00:00   \n",
       "3 2024-05-12 15:00:00+00:00       10513 2024-05-12 18:00:00+00:00   \n",
       "4 2024-05-12 15:00:00+00:00       10513 2024-05-12 19:00:00+00:00   \n",
       "\n",
       "                                          parameter  value  \n",
       "0  precipitation_height_significant_weather_last_1h    0.0  \n",
       "1  precipitation_height_significant_weather_last_1h    0.0  \n",
       "2  precipitation_height_significant_weather_last_1h    0.0  \n",
       "3  precipitation_height_significant_weather_last_1h    0.0  \n",
       "4  precipitation_height_significant_weather_last_1h    0.0  "
      ]
     },
     "execution_count": 1,
     "metadata": {},
     "output_type": "execute_result"
    }
   ],
   "source": [
    "import pandas as pd\n",
    "\n",
    "reverse_station_mapping = {\n",
    "    433: 10384, 2667: 10513, 3379: 10865, 1443: 10803, \n",
    "    5906: 10729, 2522: 10727, 4104: 10776, 1270: 10554, \n",
    "    5419: 10555\n",
    "}\n",
    "\n",
    "valid_stations = [\n",
    "    reverse_station_mapping[station] for station in [433, 1270, 1443, 2667, 3379, 4104, 5906]\n",
    "]\n",
    "\n",
    "df_forecasts = pd.read_csv(\"/Users/fohlen/Downloads/export_2024-11-08/merged.csv\")\n",
    "df_forecasts = df_forecasts[df_forecasts[\"station_id\"].isin(valid_stations)]\n",
    "df_forecasts[\"recorded_at\"] = pd.to_datetime(df_forecasts[\"recorded_at\"], utc=True)\n",
    "df_forecasts[\"recorded_at\"] = df_forecasts[\"recorded_at\"].dt.floor('h')\n",
    "df_forecasts[\"forecast_time\"] = pd.to_datetime(df_forecasts[\"forecast_time\"], utc=True)\n",
    "df_forecasts.head()"
   ]
  },
  {
   "cell_type": "markdown",
   "id": "7626d967-81af-482d-a2e5-c93919993fc2",
   "metadata": {},
   "source": [
    "Load the actual weather"
   ]
  },
  {
   "cell_type": "code",
   "execution_count": 2,
   "id": "ad98e27d-ba83-438f-b1c4-e29f46151df9",
   "metadata": {},
   "outputs": [
    {
     "data": {
      "text/html": [
       "<div>\n",
       "<style scoped>\n",
       "    .dataframe tbody tr th:only-of-type {\n",
       "        vertical-align: middle;\n",
       "    }\n",
       "\n",
       "    .dataframe tbody tr th {\n",
       "        vertical-align: top;\n",
       "    }\n",
       "\n",
       "    .dataframe thead th {\n",
       "        text-align: right;\n",
       "    }\n",
       "</style>\n",
       "<table border=\"1\" class=\"dataframe\">\n",
       "  <thead>\n",
       "    <tr style=\"text-align: right;\">\n",
       "      <th></th>\n",
       "      <th>recorded_at</th>\n",
       "      <th>station_id</th>\n",
       "      <th>parameter</th>\n",
       "      <th>value</th>\n",
       "    </tr>\n",
       "  </thead>\n",
       "  <tbody>\n",
       "    <tr>\n",
       "      <th>0</th>\n",
       "      <td>2024-05-06 00:00:00+00:00</td>\n",
       "      <td>433</td>\n",
       "      <td>precipitation_height</td>\n",
       "      <td>0.0</td>\n",
       "    </tr>\n",
       "    <tr>\n",
       "      <th>1</th>\n",
       "      <td>2024-05-06 01:00:00+00:00</td>\n",
       "      <td>433</td>\n",
       "      <td>precipitation_height</td>\n",
       "      <td>0.0</td>\n",
       "    </tr>\n",
       "    <tr>\n",
       "      <th>2</th>\n",
       "      <td>2024-05-06 02:00:00+00:00</td>\n",
       "      <td>433</td>\n",
       "      <td>precipitation_height</td>\n",
       "      <td>0.0</td>\n",
       "    </tr>\n",
       "    <tr>\n",
       "      <th>3</th>\n",
       "      <td>2024-05-06 03:00:00+00:00</td>\n",
       "      <td>433</td>\n",
       "      <td>precipitation_height</td>\n",
       "      <td>0.0</td>\n",
       "    </tr>\n",
       "    <tr>\n",
       "      <th>4</th>\n",
       "      <td>2024-05-06 04:00:00+00:00</td>\n",
       "      <td>433</td>\n",
       "      <td>precipitation_height</td>\n",
       "      <td>0.0</td>\n",
       "    </tr>\n",
       "  </tbody>\n",
       "</table>\n",
       "</div>"
      ],
      "text/plain": [
       "                recorded_at  station_id             parameter  value\n",
       "0 2024-05-06 00:00:00+00:00         433  precipitation_height    0.0\n",
       "1 2024-05-06 01:00:00+00:00         433  precipitation_height    0.0\n",
       "2 2024-05-06 02:00:00+00:00         433  precipitation_height    0.0\n",
       "3 2024-05-06 03:00:00+00:00         433  precipitation_height    0.0\n",
       "4 2024-05-06 04:00:00+00:00         433  precipitation_height    0.0"
      ]
     },
     "execution_count": 2,
     "metadata": {},
     "output_type": "execute_result"
    }
   ],
   "source": [
    "df_measure = pd.read_csv(\"data/historical_weather.csv\")\n",
    "df_measure[\"recorded_at\"] = pd.to_datetime(df_measure[\"recorded_at\"], utc=True)\n",
    "df_measure.head()"
   ]
  },
  {
   "cell_type": "markdown",
   "id": "e978dff5-9d8c-465a-95e5-0680043cb4de",
   "metadata": {},
   "source": [
    "Mapping from forecast to measurement"
   ]
  },
  {
   "cell_type": "code",
   "execution_count": 3,
   "id": "57616104-fb41-4a0c-8236-7003cbc2aae2",
   "metadata": {},
   "outputs": [],
   "source": [
    "reverse_parameter_mapping = {\n",
    "    'precipitation_height': 'precipitation_height_significant_weather_last_1h',\n",
    "    'temperature_air_mean_2m': 'temperature_air_mean_200'\n",
    "}"
   ]
  },
  {
   "cell_type": "code",
   "execution_count": 6,
   "id": "20837ee2-505e-41f1-afdb-cb6ed96ce544",
   "metadata": {},
   "outputs": [],
   "source": [
    "from tqdm import tqdm\n",
    "\n",
    "rows_regression = []\n",
    "rows = df_measure[\n",
    "  (df_measure[\"recorded_at\"].dt.dayofyear == 200) &\n",
    "  (df_measure[\"parameter\"] == \"temperature_air_mean_2m\")\n",
    "]\n",
    "\n",
    "measure_times = rows.recorded_at.unique().tolist()\n",
    "\n",
    "rows_measure_time = []\n",
    "\n",
    "parameter = \"temperature_air_mean_2m\"\n",
    "\n",
    "for measure_time in measure_times:\n",
    "    forecast_rows_measure_time = df_forecasts[\n",
    "        (df_forecasts[\"forecast_time\"] == measure_time) &\n",
    "        (df_forecasts[\"parameter\"] == reverse_parameter_mapping[parameter])\n",
    "    ]\n",
    "\n",
    "    rows_measure_time.append(forecast_rows_measure_time.groupby(forecast_rows_measure_time.recorded_at).value.mean().mean())"
   ]
  },
  {
   "cell_type": "code",
   "execution_count": 7,
   "id": "3bfcb0a7-f1eb-4abb-8b01-86876a93324a",
   "metadata": {},
   "outputs": [
    {
     "data": {
      "image/png": "[encoded data removed]",
      "text/plain": [
       "<Figure size 640x480 with 1 Axes>"
      ]
     },
     "metadata": {},
     "output_type": "display_data"
    }
   ],
   "source": [
    "import matplotlib.pyplot as plt\n",
    "\n",
    "y = rows.groupby(rows.recorded_at.dt.hour).value.mean().to_numpy()\n",
    "plt.plot(rows_measure_time, c=\"b\")\n",
    "plt.plot(y, c=\"r\")\n",
    "plt.show()"
   ]
  },
  {
   "cell_type": "code",
   "execution_count": 9,
   "id": "b2d7f095-a986-4a40-a2dd-632954c756aa",
   "metadata": {},
   "outputs": [
    {
     "data": {
      "text/plain": [
       "LinregressResult(slope=1.08026273040254, intercept=-24.179048940134635, rvalue=0.995484192270246, pvalue=5.373008862086357e-24, stderr=0.021962185311336833, intercept_stderr=6.476145929275447)"
      ]
     },
     "execution_count": 9,
     "metadata": {},
     "output_type": "execute_result"
    }
   ],
   "source": [
    "from scipy import stats\n",
    "\n",
    "stats.linregress(rows_measure_time, y)"
   ]
  },
  {
   "cell_type": "code",
   "execution_count": null,
   "id": "f51d361c-a6a0-4293-a0f2-1ca1ed98791c",
   "metadata": {},
   "outputs": [],
   "source": [
    "#for measure_time in measure_times:\n",
    "#    parameter = \"temperature_air_mean_2m\"\n",
    "\n",
    "#    forecast_rows_measure_time = df_forecasts[\n",
    "#        (df_forecasts[\"forecast_time\"] == measure_time) &\n",
    "#        (df_forecasts[\"parameter\"] == reverse_parameter_mapping[parameter])\n",
    "#    ]\n",
    "\n",
    "    # (240 * stations)\n",
    "#    values = forecast_rows_measure_time.groupby([\n",
    "#        forecast_rows_measure_time.recorded_at.dt.dayofyear,\n",
    "#        forecast_rows_measure_time.recorded_at.dt.hour\n",
    "#    ]).value.mean()\n",
    "\n",
    "#    rows_regression.append(values.tolist())"
   ]
  }
 ],
 "metadata": {
  "kernelspec": {
   "display_name": "Python 3 (ipykernel)",
   "language": "python",
   "name": "python3"
  },
  "language_info": {
   "codemirror_mode": {
    "name": "ipython",
    "version": 3
   },
   "file_extension": ".py",
   "mimetype": "text/x-python",
   "name": "python",
   "nbconvert_exporter": "python",
   "pygments_lexer": "ipython3",
   "version": "3.11.11"
  }
 },
 "nbformat": 4,
 "nbformat_minor": 5
}
