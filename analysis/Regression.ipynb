{
 "cells": [
  {
   "cell_type": "markdown",
   "id": "0053a23b-d776-4402-b53a-c5497876f783",
   "metadata": {},
   "source": [
    "Load the forecasts"
   ]
  },
  {
   "cell_type": "code",
   "execution_count": 1,
   "id": "63bfe3e6-18b2-4708-ad5e-1014658ec623",
   "metadata": {},
   "outputs": [
    {
     "data": {
      "text/html": [
       "<div>\n",
       "<style scoped>\n",
       "    .dataframe tbody tr th:only-of-type {\n",
       "        vertical-align: middle;\n",
       "    }\n",
       "\n",
       "    .dataframe tbody tr th {\n",
       "        vertical-align: top;\n",
       "    }\n",
       "\n",
       "    .dataframe thead th {\n",
       "        text-align: right;\n",
       "    }\n",
       "</style>\n",
       "<table border=\"1\" class=\"dataframe\">\n",
       "  <thead>\n",
       "    <tr style=\"text-align: right;\">\n",
       "      <th></th>\n",
       "      <th>recorded_at</th>\n",
       "      <th>station_id</th>\n",
       "      <th>forecast_time</th>\n",
       "      <th>parameter</th>\n",
       "      <th>value</th>\n",
       "    </tr>\n",
       "  </thead>\n",
       "  <tbody>\n",
       "    <tr>\n",
       "      <th>0</th>\n",
       "      <td>2024-05-12 15:00:00+00:00</td>\n",
       "      <td>10513</td>\n",
       "      <td>2024-05-12 15:00:00+00:00</td>\n",
       "      <td>precipitation_height_significant_weather_last_1h</td>\n",
       "      <td>0.0</td>\n",
       "    </tr>\n",
       "    <tr>\n",
       "      <th>1</th>\n",
       "      <td>2024-05-12 15:00:00+00:00</td>\n",
       "      <td>10513</td>\n",
       "      <td>2024-05-12 16:00:00+00:00</td>\n",
       "      <td>precipitation_height_significant_weather_last_1h</td>\n",
       "      <td>0.0</td>\n",
       "    </tr>\n",
       "    <tr>\n",
       "      <th>2</th>\n",
       "      <td>2024-05-12 15:00:00+00:00</td>\n",
       "      <td>10513</td>\n",
       "      <td>2024-05-12 17:00:00+00:00</td>\n",
       "      <td>precipitation_height_significant_weather_last_1h</td>\n",
       "      <td>0.0</td>\n",
       "    </tr>\n",
       "    <tr>\n",
       "      <th>3</th>\n",
       "      <td>2024-05-12 15:00:00+00:00</td>\n",
       "      <td>10513</td>\n",
       "      <td>2024-05-12 18:00:00+00:00</td>\n",
       "      <td>precipitation_height_significant_weather_last_1h</td>\n",
       "      <td>0.0</td>\n",
       "    </tr>\n",
       "    <tr>\n",
       "      <th>4</th>\n",
       "      <td>2024-05-12 15:00:00+00:00</td>\n",
       "      <td>10513</td>\n",
       "      <td>2024-05-12 19:00:00+00:00</td>\n",
       "      <td>precipitation_height_significant_weather_last_1h</td>\n",
       "      <td>0.0</td>\n",
       "    </tr>\n",
       "  </tbody>\n",
       "</table>\n",
       "</div>"
      ],
      "text/plain": [
       "                recorded_at  station_id             forecast_time  \\\n",
       "0 2024-05-12 15:00:00+00:00       10513 2024-05-12 15:00:00+00:00   \n",
       "1 2024-05-12 15:00:00+00:00       10513 2024-05-12 16:00:00+00:00   \n",
       "2 2024-05-12 15:00:00+00:00       10513 2024-05-12 17:00:00+00:00   \n",
       "3 2024-05-12 15:00:00+00:00       10513 2024-05-12 18:00:00+00:00   \n",
       "4 2024-05-12 15:00:00+00:00       10513 2024-05-12 19:00:00+00:00   \n",
       "\n",
       "                                          parameter  value  \n",
       "0  precipitation_height_significant_weather_last_1h    0.0  \n",
       "1  precipitation_height_significant_weather_last_1h    0.0  \n",
       "2  precipitation_height_significant_weather_last_1h    0.0  \n",
       "3  precipitation_height_significant_weather_last_1h    0.0  \n",
       "4  precipitation_height_significant_weather_last_1h    0.0  "
      ]
     },
     "execution_count": 1,
     "metadata": {},
     "output_type": "execute_result"
    }
   ],
   "source": [
    "import pandas as pd\n",
    "\n",
    "reverse_station_mapping = {\n",
    "    433: 10384, 2667: 10513, 3379: 10865, 1443: 10803, \n",
    "    5906: 10729, 2522: 10727, 4104: 10776, 1270: 10554, \n",
    "    5419: 10555\n",
    "}\n",
    "\n",
    "valid_stations = [\n",
    "    reverse_station_mapping[station] for station in [433, 1270, 1443, 2667, 3379, 4104, 5906]\n",
    "]\n",
    "\n",
    "df_forecasts = pd.read_csv(\"/Users/fohlen/Downloads/export_2024-11-08/merged.csv\")\n",
    "df_forecasts = df_forecasts[df_forecasts[\"station_id\"].isin(valid_stations)]\n",
    "df_forecasts[\"recorded_at\"] = pd.to_datetime(df_forecasts[\"recorded_at\"], utc=True)\n",
    "df_forecasts[\"recorded_at\"] = df_forecasts[\"recorded_at\"].dt.floor('h')\n",
    "df_forecasts[\"forecast_time\"] = pd.to_datetime(df_forecasts[\"forecast_time\"], utc=True)\n",
    "df_forecasts.head()"
   ]
  },
  {
   "cell_type": "markdown",
   "id": "7626d967-81af-482d-a2e5-c93919993fc2",
   "metadata": {},
   "source": [
    "Load the actual weather"
   ]
  },
  {
   "cell_type": "code",
   "execution_count": 3,
   "id": "ad98e27d-ba83-438f-b1c4-e29f46151df9",
   "metadata": {},
   "outputs": [
    {
     "data": {
      "text/html": [
       "<div>\n",
       "<style scoped>\n",
       "    .dataframe tbody tr th:only-of-type {\n",
       "        vertical-align: middle;\n",
       "    }\n",
       "\n",
       "    .dataframe tbody tr th {\n",
       "        vertical-align: top;\n",
       "    }\n",
       "\n",
       "    .dataframe thead th {\n",
       "        text-align: right;\n",
       "    }\n",
       "</style>\n",
       "<table border=\"1\" class=\"dataframe\">\n",
       "  <thead>\n",
       "    <tr style=\"text-align: right;\">\n",
       "      <th></th>\n",
       "      <th>recorded_at</th>\n",
       "      <th>station_id</th>\n",
       "      <th>parameter</th>\n",
       "      <th>value</th>\n",
       "    </tr>\n",
       "  </thead>\n",
       "  <tbody>\n",
       "    <tr>\n",
       "      <th>0</th>\n",
       "      <td>2024-05-06 00:00:00+00:00</td>\n",
       "      <td>433</td>\n",
       "      <td>precipitation_height</td>\n",
       "      <td>0.0</td>\n",
       "    </tr>\n",
       "    <tr>\n",
       "      <th>1</th>\n",
       "      <td>2024-05-06 01:00:00+00:00</td>\n",
       "      <td>433</td>\n",
       "      <td>precipitation_height</td>\n",
       "      <td>0.0</td>\n",
       "    </tr>\n",
       "    <tr>\n",
       "      <th>2</th>\n",
       "      <td>2024-05-06 02:00:00+00:00</td>\n",
       "      <td>433</td>\n",
       "      <td>precipitation_height</td>\n",
       "      <td>0.0</td>\n",
       "    </tr>\n",
       "    <tr>\n",
       "      <th>3</th>\n",
       "      <td>2024-05-06 03:00:00+00:00</td>\n",
       "      <td>433</td>\n",
       "      <td>precipitation_height</td>\n",
       "      <td>0.0</td>\n",
       "    </tr>\n",
       "    <tr>\n",
       "      <th>4</th>\n",
       "      <td>2024-05-06 04:00:00+00:00</td>\n",
       "      <td>433</td>\n",
       "      <td>precipitation_height</td>\n",
       "      <td>0.0</td>\n",
       "    </tr>\n",
       "  </tbody>\n",
       "</table>\n",
       "</div>"
      ],
      "text/plain": [
       "                recorded_at  station_id             parameter  value\n",
       "0 2024-05-06 00:00:00+00:00         433  precipitation_height    0.0\n",
       "1 2024-05-06 01:00:00+00:00         433  precipitation_height    0.0\n",
       "2 2024-05-06 02:00:00+00:00         433  precipitation_height    0.0\n",
       "3 2024-05-06 03:00:00+00:00         433  precipitation_height    0.0\n",
       "4 2024-05-06 04:00:00+00:00         433  precipitation_height    0.0"
      ]
     },
     "execution_count": 3,
     "metadata": {},
     "output_type": "execute_result"
    }
   ],
   "source": [
    "df_measure = pd.read_csv(\"/Users/fohlen/PycharmProjects/weather_experiment/data/historical_weather.csv\")\n",
    "df_measure[\"recorded_at\"] = pd.to_datetime(df_measure[\"recorded_at\"], utc=True)\n",
    "df_measure.head()"
   ]
  },
  {
   "cell_type": "markdown",
   "id": "e978dff5-9d8c-465a-95e5-0680043cb4de",
   "metadata": {},
   "source": [
    "Mapping from forecast to measurement"
   ]
  },
  {
   "cell_type": "code",
   "execution_count": 4,
   "id": "57616104-fb41-4a0c-8236-7003cbc2aae2",
   "metadata": {},
   "outputs": [],
   "source": [
    "reverse_parameter_mapping = {\n",
    "    'precipitation_height': 'precipitation_height_significant_weather_last_1h',\n",
    "    'temperature_air_mean_2m': 'temperature_air_mean_200'\n",
    "}"
   ]
  },
  {
   "cell_type": "markdown",
   "id": "24ea7258-7073-45aa-8f0e-c4fb298c1100",
   "metadata": {},
   "source": [
    "We calculate the average value over all forecasts over all stations. "
   ]
  },
  {
   "cell_type": "code",
   "execution_count": 10,
   "id": "20837ee2-505e-41f1-afdb-cb6ed96ce544",
   "metadata": {},
   "outputs": [
    {
     "name": "stderr",
     "output_type": "stream",
     "text": [
      "100%|█████████████████████████████████████████████████████████████████████████████████████████████████████████████████████████████████████████| 4417/4417 [29:11<00:00,  2.52it/s]\n"
     ]
    }
   ],
   "source": [
    "from tqdm import tqdm\n",
    "from tqdm.contrib.concurrent import thread_map\n",
    "\n",
    "parameter = \"temperature_air_mean_2m\"\n",
    "rows = df_measure[\n",
    "  (df_measure[\"parameter\"] == parameter)\n",
    "]\n",
    "\n",
    "measure_times = rows.recorded_at.unique().tolist()\n",
    "\n",
    "def average_forecast_time(measure_time):\n",
    "    forecast_rows_measure_time = df_forecasts[\n",
    "        (df_forecasts[\"forecast_time\"] == measure_time) &\n",
    "        (df_forecasts[\"parameter\"] == reverse_parameter_mapping[parameter])\n",
    "    ]\n",
    "\n",
    "    return forecast_rows_measure_time.groupby(forecast_rows_measure_time.recorded_at).value.mean().mean()\n",
    "\n",
    "rows_measure_time = thread_map(average_forecast_time, measure_times)\n",
    "\n",
    "#for measure_time in tqdm(measure_times):\n",
    "#    forecast_rows_measure_time = df_forecasts[\n",
    "#        (df_forecasts[\"forecast_time\"] == measure_time) &\n",
    "#        (df_forecasts[\"parameter\"] == reverse_parameter_mapping[parameter])\n",
    "#    ]\n",
    "\n",
    "#    rows_measure_time.append(forecast_rows_measure_time.groupby(forecast_rows_measure_time.recorded_at).value.mean().mean())"
   ]
  },
  {
   "cell_type": "markdown",
   "id": "c62cc902-0f1e-47e2-8b03-26f71b4ee4cc",
   "metadata": {},
   "source": [
    "Since running preprocessing takes thirthy minutes, we'll persist the results to disk:"
   ]
  },
  {
   "cell_type": "code",
   "execution_count": 51,
   "id": "f2f000dd-576b-4bf1-8fd8-487e1a16e74a",
   "metadata": {},
   "outputs": [],
   "source": [
    "import numpy as np\n",
    "\n",
    "X_sun = np.array(rows_measure_time)\n",
    "y_sun = np.array([\n",
    "    rows[rows.recorded_at == measure_time].value.mean()\n",
    "    for measure_time in measure_times\n",
    "])\n",
    "\n",
    "np.save(\"/Users/fohlen/PycharmProjects/weather_experiment/data/forecasts_sun.npy\", X_sun)\n",
    "np.save(\"/Users/fohlen/PycharmProjects/weather_experiment/data/measures_sun.npy\", y_sun)"
   ]
  },
  {
   "cell_type": "code",
   "execution_count": null,
   "id": "5aebf27f-5b10-45c3-b1b9-c09511872f0c",
   "metadata": {},
   "outputs": [],
   "source": []
  },
  {
   "cell_type": "code",
   "execution_count": null,
   "id": "d8448f1c-a2f8-4be5-ace7-88836704db1e",
   "metadata": {},
   "outputs": [],
   "source": []
  },
  {
   "cell_type": "code",
   "execution_count": null,
   "id": "9e22a41b-2977-4d66-b5bb-f87c217ce204",
   "metadata": {},
   "outputs": [],
   "source": []
  },
  {
   "cell_type": "code",
   "execution_count": 54,
   "id": "3bfcb0a7-f1eb-4abb-8b01-86876a93324a",
   "metadata": {},
   "outputs": [
    {
     "data": {
      "image/png": "[encoded data removed]",
      "text/plain": [
       "<Figure size 640x480 with 1 Axes>"
      ]
     },
     "metadata": {},
     "output_type": "display_data"
    }
   ],
   "source": [
    "import matplotlib.pyplot as plt\n",
    "\n",
    "plt.plot(X_sun, c=\"b\", label=\"Forecast\")\n",
    "plt.plot(y_sun, c=\"r\", label=\"Measured\")\n",
    "plt.xlabel(\"Hours since start of recording\")\n",
    "plt.ylabel(\"Temperature K\")\n",
    "plt.legend()\n",
    "plt.savefig(\"forecast_vs_real_sun.png\")\n",
    "plt.show()"
   ]
  },
  {
   "cell_type": "code",
   "execution_count": null,
   "id": "9f47c629-2006-45fa-b0db-7c23133e1f5e",
   "metadata": {},
   "outputs": [],
   "source": []
  },
  {
   "cell_type": "code",
   "execution_count": null,
   "id": "b58d5aea-bb4b-47e7-b28a-2636dc97f692",
   "metadata": {},
   "outputs": [],
   "source": []
  },
  {
   "cell_type": "code",
   "execution_count": 38,
   "id": "b2d7f095-a986-4a40-a2dd-632954c756aa",
   "metadata": {},
   "outputs": [
    {
     "data": {
      "text/plain": [
       "LinregressResult(slope=1.0328078601355117, intercept=-9.280168156019784, rvalue=0.9746191431121498, pvalue=0.0, stderr=0.003626248183114254, intercept_stderr=1.0517393242304474)"
      ]
     },
     "execution_count": 38,
     "metadata": {},
     "output_type": "execute_result"
    }
   ],
   "source": [
    "from scipy import stats\n",
    "\n",
    "nonzero_elements = np.count_nonzero(~np.isnan(X_sun))\n",
    "skip = X_sun.shape[0] - nonzero_elements\n",
    "\n",
    "stats.linregress(X_sun[skip:], y_sun[skip:])"
   ]
  },
  {
   "cell_type": "code",
   "execution_count": null,
   "id": "3899b64a-9561-4015-bce8-9f2dc431cfce",
   "metadata": {},
   "outputs": [],
   "source": []
  },
  {
   "cell_type": "code",
   "execution_count": null,
   "id": "c6918a8e-2246-468f-a0fe-08ed82bbb634",
   "metadata": {},
   "outputs": [],
   "source": []
  },
  {
   "cell_type": "code",
   "execution_count": 60,
   "id": "eab41d25-4b86-4a47-8e1a-cb85acff6082",
   "metadata": {},
   "outputs": [],
   "source": [
    "from sklearn.model_selection import cross_val_score\n",
    "from sklearn.linear_model import LinearRegression\n",
    "\n",
    "clf = LinearRegression()\n",
    "scores_sun_lr = cross_val_score(clf, X_sun[skip:].reshape(-1, 1), y_sun[skip:], cv=10)"
   ]
  },
  {
   "cell_type": "code",
   "execution_count": 45,
   "id": "85135880-66e8-4f78-bab6-13ba9a4c3b82",
   "metadata": {},
   "outputs": [
    {
     "name": "stdout",
     "output_type": "stream",
     "text": [
      "[0.92660136 0.86684381 0.87677871 0.91550055 0.89445206 0.91040872\n",
      " 0.93109846 0.90530554 0.85273834 0.82862337]\n",
      "0.8908350915573653\n"
     ]
    }
   ],
   "source": [
    "from statistics import mean\n",
    "\n",
    "print(scores_sun_lr)\n",
    "print(mean(scores_sun_lr))"
   ]
  },
  {
   "cell_type": "code",
   "execution_count": 46,
   "id": "a37446b1-f3b0-4411-a60b-ea09c88b0bf5",
   "metadata": {},
   "outputs": [],
   "source": [
    "from sklearn.linear_model import Ridge\n",
    "\n",
    "clf_ridge = Ridge()\n",
    "scores_sun_ridge = cross_val_score(clf, X_sun[skip:].reshape(-1, 1), y_sun[skip:], cv=10)"
   ]
  },
  {
   "cell_type": "code",
   "execution_count": 47,
   "id": "a99ebf84-37ba-4c6d-b31d-099149350d03",
   "metadata": {},
   "outputs": [
    {
     "name": "stdout",
     "output_type": "stream",
     "text": [
      "[0.92660136 0.86684381 0.87677871 0.91550055 0.89445206 0.91040872\n",
      " 0.93109846 0.90530554 0.85273834 0.82862337]\n",
      "0.8908350915573653\n"
     ]
    }
   ],
   "source": [
    "print(scores_sun_ridge)\n",
    "print(mean(scores_sun_ridge))"
   ]
  },
  {
   "cell_type": "markdown",
   "id": "26126f1a-acd5-4317-81c9-920b92a19465",
   "metadata": {},
   "source": [
    "Repeat for rain:"
   ]
  },
  {
   "cell_type": "code",
   "execution_count": 48,
   "id": "8faaa70a-ae48-48b4-b306-b7d9364fc6cd",
   "metadata": {},
   "outputs": [
    {
     "name": "stderr",
     "output_type": "stream",
     "text": [
      "100%|█████████████████████████████████████████████████████████████████████████████████████████████████████████████████████████████████████████| 4417/4417 [29:10<00:00,  2.52it/s]\n"
     ]
    }
   ],
   "source": [
    "parameter = \"precipitation_height\"\n",
    "rows_rain = df_measure[\n",
    "  (df_measure[\"parameter\"] == parameter)\n",
    "]\n",
    "\n",
    "measure_times = rows.recorded_at.unique().tolist()\n",
    "\n",
    "def average_forecast_time(measure_time):\n",
    "    forecast_rows_measure_time = df_forecasts[\n",
    "        (df_forecasts[\"forecast_time\"] == measure_time) &\n",
    "        (df_forecasts[\"parameter\"] == reverse_parameter_mapping[parameter])\n",
    "    ]\n",
    "\n",
    "    return forecast_rows_measure_time.groupby(forecast_rows_measure_time.recorded_at).value.mean().mean()\n",
    "\n",
    "rows_measure_time_rain = thread_map(average_forecast_time, measure_times)"
   ]
  },
  {
   "cell_type": "code",
   "execution_count": 52,
   "id": "7d93b93e-3c22-4c50-a75a-b07f9c761493",
   "metadata": {},
   "outputs": [],
   "source": [
    "X_rain = np.array(rows_measure_time_rain)\n",
    "y_rain = np.array([\n",
    "    rows_rain[rows_rain.recorded_at == measure_time].value.mean()\n",
    "    for measure_time in measure_times\n",
    "])\n",
    "\n",
    "np.save(\"/Users/fohlen/PycharmProjects/weather_experiment/data/forecasts_rain.npy\", X_rain)\n",
    "np.save(\"/Users/fohlen/PycharmProjects/weather_experiment/data/measures_rain.npy\", y_rain)"
   ]
  },
  {
   "cell_type": "code",
   "execution_count": 56,
   "id": "53b5b97b-e47f-45a9-aaf7-66752ffbfc31",
   "metadata": {},
   "outputs": [
    {
     "data": {
      "image/png": "[encoded data removed]",
      "text/plain": [
       "<Figure size 640x480 with 1 Axes>"
      ]
     },
     "metadata": {},
     "output_type": "display_data"
    }
   ],
   "source": [
    "import matplotlib.pyplot as plt\n",
    "\n",
    "plt.plot(X_rain, c=\"b\", label=\"Forecast\")\n",
    "plt.plot(y_rain, c=\"r\", label=\"Measured\")\n",
    "plt.xlabel(\"Hours since start of recording\")\n",
    "plt.ylabel(\"Rain in mm\")\n",
    "plt.legend()\n",
    "plt.savefig(\"forecast_vs_real_rain.png\")\n",
    "plt.show()"
   ]
  },
  {
   "cell_type": "code",
   "execution_count": 57,
   "id": "3c6a566c-5821-485d-ad76-774604705178",
   "metadata": {},
   "outputs": [
    {
     "data": {
      "text/plain": [
       "LinregressResult(slope=1.3511753553172967, intercept=0.018716270064699295, rvalue=0.43866602103081076, pvalue=6.48120081645971e-201, stderr=0.0423103379915553, intercept_stderr=0.005617245126614284)"
      ]
     },
     "execution_count": 57,
     "metadata": {},
     "output_type": "execute_result"
    }
   ],
   "source": [
    "stats.linregress(X_rain[skip:], y_rain[skip:])"
   ]
  },
  {
   "cell_type": "code",
   "execution_count": 61,
   "id": "6897756a-f34b-497f-9bab-5c3c942eefe8",
   "metadata": {},
   "outputs": [],
   "source": [
    "clf_rain = LinearRegression()\n",
    "scores_rain_lr = cross_val_score(clf_rain, X_rain[skip:].reshape(-1, 1), y_rain[skip:], cv=10)"
   ]
  },
  {
   "cell_type": "code",
   "execution_count": 62,
   "id": "81dd6bd3-0e70-4eb0-b00f-05717f76abc1",
   "metadata": {},
   "outputs": [
    {
     "name": "stdout",
     "output_type": "stream",
     "text": [
      "[ 0.22997627  0.31787177  0.16157666  0.04235106  0.09054007  0.22938198\n",
      "  0.02155495  0.30763723  0.24352251 -0.08956446]\n",
      "0.15548480539947063\n"
     ]
    }
   ],
   "source": [
    "print(scores_rain_lr)\n",
    "print(mean(scores_rain_lr))"
   ]
  },
  {
   "cell_type": "code",
   "execution_count": 63,
   "id": "e0cb7789-3e05-4c27-b173-a4adf3202b2d",
   "metadata": {},
   "outputs": [],
   "source": [
    "clf_rain_ridge = Ridge()\n",
    "scores_rain_ridge = cross_val_score(clf_rain_ridge, X_rain[skip:].reshape(-1, 1), y_rain[skip:], cv=10)"
   ]
  },
  {
   "cell_type": "code",
   "execution_count": 64,
   "id": "547a8f53-ccef-4af4-8db0-a408a73cbc39",
   "metadata": {},
   "outputs": [
    {
     "name": "stdout",
     "output_type": "stream",
     "text": [
      "[ 0.22762109  0.31386427  0.16423048  0.04556391  0.08963913  0.22668467\n",
      "  0.02821872  0.31235394  0.24305629 -0.12656817]\n",
      "0.15246643245051072\n"
     ]
    }
   ],
   "source": [
    "print(scores_rain_ridge)\n",
    "print(mean(scores_rain_ridge))"
   ]
  },
  {
   "cell_type": "code",
   "execution_count": null,
   "id": "67c2c465-fd91-48e1-bcf9-38c323daf41c",
   "metadata": {},
   "outputs": [],
   "source": []
  }
 ],
 "metadata": {
  "kernelspec": {
   "display_name": "Python 3 (ipykernel)",
   "language": "python",
   "name": "python3"
  },
  "language_info": {
   "codemirror_mode": {
    "name": "ipython",
    "version": 3
   },
   "file_extension": ".py",
   "mimetype": "text/x-python",
   "name": "python",
   "nbconvert_exporter": "python",
   "pygments_lexer": "ipython3",
   "version": "3.11.11"
  }
 },
 "nbformat": 4,
 "nbformat_minor": 5
}
