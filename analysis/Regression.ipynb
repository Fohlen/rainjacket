{
 "cells": [
  {
   "cell_type": "markdown",
   "id": "0053a23b-d776-4402-b53a-c5497876f783",
   "metadata": {},
   "source": [
    "Load the forecasts"
   ]
  },
  {
   "cell_type": "code",
   "execution_count": 4,
   "id": "63bfe3e6-18b2-4708-ad5e-1014658ec623",
   "metadata": {},
   "outputs": [
    {
     "name": "stderr",
     "output_type": "stream",
     "text": [
      "/var/folders/k6/hdzmrkf915d0twbr_qmhy9l00000gn/T/ipykernel_27133/3023989251.py:5: FutureWarning: 'H' is deprecated and will be removed in a future version, please use 'h' instead.\n",
      "  df_forecasts[\"recorded_at\"] = df_forecasts[\"recorded_at\"].dt.floor('H')\n"
     ]
    },
    {
     "data": {
      "text/html": [
       "<div>\n",
       "<style scoped>\n",
       "    .dataframe tbody tr th:only-of-type {\n",
       "        vertical-align: middle;\n",
       "    }\n",
       "\n",
       "    .dataframe tbody tr th {\n",
       "        vertical-align: top;\n",
       "    }\n",
       "\n",
       "    .dataframe thead th {\n",
       "        text-align: right;\n",
       "    }\n",
       "</style>\n",
       "<table border=\"1\" class=\"dataframe\">\n",
       "  <thead>\n",
       "    <tr style=\"text-align: right;\">\n",
       "      <th></th>\n",
       "      <th>recorded_at</th>\n",
       "      <th>station_id</th>\n",
       "      <th>forecast_time</th>\n",
       "      <th>parameter</th>\n",
       "      <th>value</th>\n",
       "    </tr>\n",
       "  </thead>\n",
       "  <tbody>\n",
       "    <tr>\n",
       "      <th>0</th>\n",
       "      <td>2024-05-12 15:00:00+00:00</td>\n",
       "      <td>10513</td>\n",
       "      <td>2024-05-12 15:00:00+00:00</td>\n",
       "      <td>precipitation_height_significant_weather_last_1h</td>\n",
       "      <td>0.0</td>\n",
       "    </tr>\n",
       "    <tr>\n",
       "      <th>1</th>\n",
       "      <td>2024-05-12 15:00:00+00:00</td>\n",
       "      <td>10513</td>\n",
       "      <td>2024-05-12 16:00:00+00:00</td>\n",
       "      <td>precipitation_height_significant_weather_last_1h</td>\n",
       "      <td>0.0</td>\n",
       "    </tr>\n",
       "    <tr>\n",
       "      <th>2</th>\n",
       "      <td>2024-05-12 15:00:00+00:00</td>\n",
       "      <td>10513</td>\n",
       "      <td>2024-05-12 17:00:00+00:00</td>\n",
       "      <td>precipitation_height_significant_weather_last_1h</td>\n",
       "      <td>0.0</td>\n",
       "    </tr>\n",
       "    <tr>\n",
       "      <th>3</th>\n",
       "      <td>2024-05-12 15:00:00+00:00</td>\n",
       "      <td>10513</td>\n",
       "      <td>2024-05-12 18:00:00+00:00</td>\n",
       "      <td>precipitation_height_significant_weather_last_1h</td>\n",
       "      <td>0.0</td>\n",
       "    </tr>\n",
       "    <tr>\n",
       "      <th>4</th>\n",
       "      <td>2024-05-12 15:00:00+00:00</td>\n",
       "      <td>10513</td>\n",
       "      <td>2024-05-12 19:00:00+00:00</td>\n",
       "      <td>precipitation_height_significant_weather_last_1h</td>\n",
       "      <td>0.0</td>\n",
       "    </tr>\n",
       "  </tbody>\n",
       "</table>\n",
       "</div>"
      ],
      "text/plain": [
       "                recorded_at  station_id             forecast_time  \\\n",
       "0 2024-05-12 15:00:00+00:00       10513 2024-05-12 15:00:00+00:00   \n",
       "1 2024-05-12 15:00:00+00:00       10513 2024-05-12 16:00:00+00:00   \n",
       "2 2024-05-12 15:00:00+00:00       10513 2024-05-12 17:00:00+00:00   \n",
       "3 2024-05-12 15:00:00+00:00       10513 2024-05-12 18:00:00+00:00   \n",
       "4 2024-05-12 15:00:00+00:00       10513 2024-05-12 19:00:00+00:00   \n",
       "\n",
       "                                          parameter  value  \n",
       "0  precipitation_height_significant_weather_last_1h    0.0  \n",
       "1  precipitation_height_significant_weather_last_1h    0.0  \n",
       "2  precipitation_height_significant_weather_last_1h    0.0  \n",
       "3  precipitation_height_significant_weather_last_1h    0.0  \n",
       "4  precipitation_height_significant_weather_last_1h    0.0  "
      ]
     },
     "execution_count": 4,
     "metadata": {},
     "output_type": "execute_result"
    }
   ],
   "source": [
    "import pandas as pd\n",
    "\n",
    "df_forecasts = pd.read_csv(\"/Users/fohlen/Downloads/export_2024-11-08/merged.csv\")\n",
    "df_forecasts[\"recorded_at\"] = pd.to_datetime(df_forecasts[\"recorded_at\"], utc=True)\n",
    "df_forecasts[\"recorded_at\"] = df_forecasts[\"recorded_at\"].dt.floor('H')\n",
    "df_forecasts[\"forecast_time\"] = pd.to_datetime(df_forecasts[\"forecast_time\"], utc=True)\n",
    "df_forecasts.head()"
   ]
  },
  {
   "cell_type": "markdown",
   "id": "7626d967-81af-482d-a2e5-c93919993fc2",
   "metadata": {},
   "source": [
    "Load the actual weather"
   ]
  },
  {
   "cell_type": "code",
   "execution_count": 2,
   "id": "ad98e27d-ba83-438f-b1c4-e29f46151df9",
   "metadata": {},
   "outputs": [
    {
     "data": {
      "text/html": [
       "<div>\n",
       "<style scoped>\n",
       "    .dataframe tbody tr th:only-of-type {\n",
       "        vertical-align: middle;\n",
       "    }\n",
       "\n",
       "    .dataframe tbody tr th {\n",
       "        vertical-align: top;\n",
       "    }\n",
       "\n",
       "    .dataframe thead th {\n",
       "        text-align: right;\n",
       "    }\n",
       "</style>\n",
       "<table border=\"1\" class=\"dataframe\">\n",
       "  <thead>\n",
       "    <tr style=\"text-align: right;\">\n",
       "      <th></th>\n",
       "      <th>recorded_at</th>\n",
       "      <th>station_id</th>\n",
       "      <th>parameter</th>\n",
       "      <th>value</th>\n",
       "    </tr>\n",
       "  </thead>\n",
       "  <tbody>\n",
       "    <tr>\n",
       "      <th>0</th>\n",
       "      <td>2024-05-06 00:00:00+00:00</td>\n",
       "      <td>433</td>\n",
       "      <td>precipitation_height</td>\n",
       "      <td>0.0</td>\n",
       "    </tr>\n",
       "    <tr>\n",
       "      <th>1</th>\n",
       "      <td>2024-05-06 01:00:00+00:00</td>\n",
       "      <td>433</td>\n",
       "      <td>precipitation_height</td>\n",
       "      <td>0.0</td>\n",
       "    </tr>\n",
       "    <tr>\n",
       "      <th>2</th>\n",
       "      <td>2024-05-06 02:00:00+00:00</td>\n",
       "      <td>433</td>\n",
       "      <td>precipitation_height</td>\n",
       "      <td>0.0</td>\n",
       "    </tr>\n",
       "    <tr>\n",
       "      <th>3</th>\n",
       "      <td>2024-05-06 03:00:00+00:00</td>\n",
       "      <td>433</td>\n",
       "      <td>precipitation_height</td>\n",
       "      <td>0.0</td>\n",
       "    </tr>\n",
       "    <tr>\n",
       "      <th>4</th>\n",
       "      <td>2024-05-06 04:00:00+00:00</td>\n",
       "      <td>433</td>\n",
       "      <td>precipitation_height</td>\n",
       "      <td>0.0</td>\n",
       "    </tr>\n",
       "  </tbody>\n",
       "</table>\n",
       "</div>"
      ],
      "text/plain": [
       "                recorded_at  station_id             parameter  value\n",
       "0 2024-05-06 00:00:00+00:00         433  precipitation_height    0.0\n",
       "1 2024-05-06 01:00:00+00:00         433  precipitation_height    0.0\n",
       "2 2024-05-06 02:00:00+00:00         433  precipitation_height    0.0\n",
       "3 2024-05-06 03:00:00+00:00         433  precipitation_height    0.0\n",
       "4 2024-05-06 04:00:00+00:00         433  precipitation_height    0.0"
      ]
     },
     "execution_count": 2,
     "metadata": {},
     "output_type": "execute_result"
    }
   ],
   "source": [
    "df_measure = pd.read_csv(\"data/historical_weather.csv\")\n",
    "df_measure[\"recorded_at\"] = pd.to_datetime(df_measure[\"recorded_at\"], utc=True)\n",
    "df_measure.head()"
   ]
  },
  {
   "cell_type": "markdown",
   "id": "e978dff5-9d8c-465a-95e5-0680043cb4de",
   "metadata": {},
   "source": [
    "Mapping from forecast to measurement"
   ]
  },
  {
   "cell_type": "code",
   "execution_count": 3,
   "id": "57616104-fb41-4a0c-8236-7003cbc2aae2",
   "metadata": {},
   "outputs": [],
   "source": [
    "reverse_station_mapping = {\n",
    "    433: 10384, 2667: 10513, 3379: 10865, 1443: 10803, \n",
    "    5906: 10729, 2522: 10727, 4104: 10776, 1270: 10554, \n",
    "    5419: 10555\n",
    "}\n",
    "\n",
    "reverse_parameter_mapping = {\n",
    "    'precipitation_height': 'precipitation_height_significant_weather_last_1h',\n",
    "    'temperature_air_mean_2m': 'temperature_air_mean_200'\n",
    "}"
   ]
  },
  {
   "cell_type": "code",
   "execution_count": 48,
   "id": "20837ee2-505e-41f1-afdb-cb6ed96ce544",
   "metadata": {},
   "outputs": [
    {
     "name": "stderr",
     "output_type": "stream",
     "text": [
      "  0%|▏                                                                                                                                      | 62/61838 [00:47<13:08:44,  1.31it/s]\n"
     ]
    },
    {
     "ename": "KeyboardInterrupt",
     "evalue": "",
     "output_type": "error",
     "traceback": [
      "\u001b[0;31m---------------------------------------------------------------------------\u001b[0m",
      "\u001b[0;31mKeyboardInterrupt\u001b[0m                         Traceback (most recent call last)",
      "Cell \u001b[0;32mIn[48], line 10\u001b[0m\n\u001b[1;32m      6\u001b[0m measurement_time \u001b[38;5;241m=\u001b[39m row[\u001b[38;5;124m\"\u001b[39m\u001b[38;5;124mrecorded_at\u001b[39m\u001b[38;5;124m\"\u001b[39m]\n\u001b[1;32m      7\u001b[0m parameter \u001b[38;5;241m=\u001b[39m \u001b[38;5;124m\"\u001b[39m\u001b[38;5;124mtemperature_air_mean_2m\u001b[39m\u001b[38;5;124m\"\u001b[39m\n\u001b[1;32m      9\u001b[0m forecast_rows_measure_time \u001b[38;5;241m=\u001b[39m df_forecasts[\n\u001b[0;32m---> 10\u001b[0m     \u001b[43m(\u001b[49m\u001b[43mdf_forecasts\u001b[49m\u001b[43m[\u001b[49m\u001b[38;5;124;43m\"\u001b[39;49m\u001b[38;5;124;43mforecast_time\u001b[39;49m\u001b[38;5;124;43m\"\u001b[39;49m\u001b[43m]\u001b[49m\u001b[43m \u001b[49m\u001b[38;5;241;43m==\u001b[39;49m\u001b[43m \u001b[49m\u001b[43mmeasurement_time\u001b[49m\u001b[43m)\u001b[49m\u001b[43m \u001b[49m\u001b[38;5;241;43m&\u001b[39;49m\n\u001b[1;32m     11\u001b[0m \u001b[43m    \u001b[49m\u001b[43m(\u001b[49m\u001b[43mdf_forecasts\u001b[49m\u001b[43m[\u001b[49m\u001b[38;5;124;43m\"\u001b[39;49m\u001b[38;5;124;43mparameter\u001b[39;49m\u001b[38;5;124;43m\"\u001b[39;49m\u001b[43m]\u001b[49m\u001b[43m \u001b[49m\u001b[38;5;241;43m==\u001b[39;49m\u001b[43m \u001b[49m\u001b[43mreverse_parameter_mapping\u001b[49m\u001b[43m[\u001b[49m\u001b[43mparameter\u001b[49m\u001b[43m]\u001b[49m\u001b[43m)\u001b[49m\n\u001b[1;32m     12\u001b[0m ]\n\u001b[1;32m     14\u001b[0m \u001b[38;5;28;01mfor\u001b[39;00m n \u001b[38;5;129;01min\u001b[39;00m \u001b[38;5;28mrange\u001b[39m(\u001b[38;5;241m1\u001b[39m, \u001b[38;5;241m241\u001b[39m):\n\u001b[1;32m     15\u001b[0m     filter_time \u001b[38;5;241m=\u001b[39m measurement_time \u001b[38;5;241m-\u001b[39m pd\u001b[38;5;241m.\u001b[39mTimedelta(hours\u001b[38;5;241m=\u001b[39mn)\n",
      "File \u001b[0;32m~/PycharmProjects/weather_experiment/venv/lib/python3.11/site-packages/pandas/core/ops/common.py:76\u001b[0m, in \u001b[0;36m_unpack_zerodim_and_defer.<locals>.new_method\u001b[0;34m(self, other)\u001b[0m\n\u001b[1;32m     72\u001b[0m             \u001b[38;5;28;01mreturn\u001b[39;00m \u001b[38;5;28mNotImplemented\u001b[39m\n\u001b[1;32m     74\u001b[0m other \u001b[38;5;241m=\u001b[39m item_from_zerodim(other)\n\u001b[0;32m---> 76\u001b[0m \u001b[38;5;28;01mreturn\u001b[39;00m \u001b[43mmethod\u001b[49m\u001b[43m(\u001b[49m\u001b[38;5;28;43mself\u001b[39;49m\u001b[43m,\u001b[49m\u001b[43m \u001b[49m\u001b[43mother\u001b[49m\u001b[43m)\u001b[49m\n",
      "File \u001b[0;32m~/PycharmProjects/weather_experiment/venv/lib/python3.11/site-packages/pandas/core/arraylike.py:70\u001b[0m, in \u001b[0;36mOpsMixin.__and__\u001b[0;34m(self, other)\u001b[0m\n\u001b[1;32m     68\u001b[0m \u001b[38;5;129m@unpack_zerodim_and_defer\u001b[39m(\u001b[38;5;124m\"\u001b[39m\u001b[38;5;124m__and__\u001b[39m\u001b[38;5;124m\"\u001b[39m)\n\u001b[1;32m     69\u001b[0m \u001b[38;5;28;01mdef\u001b[39;00m \u001b[38;5;21m__and__\u001b[39m(\u001b[38;5;28mself\u001b[39m, other):\n\u001b[0;32m---> 70\u001b[0m     \u001b[38;5;28;01mreturn\u001b[39;00m \u001b[38;5;28;43mself\u001b[39;49m\u001b[38;5;241;43m.\u001b[39;49m\u001b[43m_logical_method\u001b[49m\u001b[43m(\u001b[49m\u001b[43mother\u001b[49m\u001b[43m,\u001b[49m\u001b[43m \u001b[49m\u001b[43moperator\u001b[49m\u001b[38;5;241;43m.\u001b[39;49m\u001b[43mand_\u001b[49m\u001b[43m)\u001b[49m\n",
      "File \u001b[0;32m~/PycharmProjects/weather_experiment/venv/lib/python3.11/site-packages/pandas/core/series.py:6130\u001b[0m, in \u001b[0;36mSeries._logical_method\u001b[0;34m(self, other, op)\u001b[0m\n\u001b[1;32m   6127\u001b[0m lvalues \u001b[38;5;241m=\u001b[39m \u001b[38;5;28mself\u001b[39m\u001b[38;5;241m.\u001b[39m_values\n\u001b[1;32m   6128\u001b[0m rvalues \u001b[38;5;241m=\u001b[39m extract_array(other, extract_numpy\u001b[38;5;241m=\u001b[39m\u001b[38;5;28;01mTrue\u001b[39;00m, extract_range\u001b[38;5;241m=\u001b[39m\u001b[38;5;28;01mTrue\u001b[39;00m)\n\u001b[0;32m-> 6130\u001b[0m res_values \u001b[38;5;241m=\u001b[39m \u001b[43mops\u001b[49m\u001b[38;5;241;43m.\u001b[39;49m\u001b[43mlogical_op\u001b[49m\u001b[43m(\u001b[49m\u001b[43mlvalues\u001b[49m\u001b[43m,\u001b[49m\u001b[43m \u001b[49m\u001b[43mrvalues\u001b[49m\u001b[43m,\u001b[49m\u001b[43m \u001b[49m\u001b[43mop\u001b[49m\u001b[43m)\u001b[49m\n\u001b[1;32m   6131\u001b[0m \u001b[38;5;28;01mreturn\u001b[39;00m \u001b[38;5;28mself\u001b[39m\u001b[38;5;241m.\u001b[39m_construct_result(res_values, name\u001b[38;5;241m=\u001b[39mres_name)\n",
      "File \u001b[0;32m~/PycharmProjects/weather_experiment/venv/lib/python3.11/site-packages/pandas/core/ops/array_ops.py:448\u001b[0m, in \u001b[0;36mlogical_op\u001b[0;34m(left, right, op)\u001b[0m\n\u001b[1;32m    446\u001b[0m     is_other_int_dtype \u001b[38;5;241m=\u001b[39m rvalues\u001b[38;5;241m.\u001b[39mdtype\u001b[38;5;241m.\u001b[39mkind \u001b[38;5;129;01min\u001b[39;00m \u001b[38;5;124m\"\u001b[39m\u001b[38;5;124miu\u001b[39m\u001b[38;5;124m\"\u001b[39m\n\u001b[1;32m    447\u001b[0m     \u001b[38;5;28;01mif\u001b[39;00m \u001b[38;5;129;01mnot\u001b[39;00m is_other_int_dtype:\n\u001b[0;32m--> 448\u001b[0m         rvalues \u001b[38;5;241m=\u001b[39m \u001b[43mfill_bool\u001b[49m\u001b[43m(\u001b[49m\u001b[43mrvalues\u001b[49m\u001b[43m,\u001b[49m\u001b[43m \u001b[49m\u001b[43mlvalues\u001b[49m\u001b[43m)\u001b[49m\n\u001b[1;32m    450\u001b[0m \u001b[38;5;28;01melse\u001b[39;00m:\n\u001b[1;32m    451\u001b[0m     \u001b[38;5;66;03m# i.e. scalar\u001b[39;00m\n\u001b[1;32m    452\u001b[0m     is_other_int_dtype \u001b[38;5;241m=\u001b[39m lib\u001b[38;5;241m.\u001b[39mis_integer(rvalues)\n",
      "File \u001b[0;32m~/PycharmProjects/weather_experiment/venv/lib/python3.11/site-packages/pandas/core/ops/array_ops.py:420\u001b[0m, in \u001b[0;36mlogical_op.<locals>.fill_bool\u001b[0;34m(x, left)\u001b[0m\n\u001b[1;32m    417\u001b[0m         x[mask] \u001b[38;5;241m=\u001b[39m \u001b[38;5;28;01mFalse\u001b[39;00m\n\u001b[1;32m    419\u001b[0m \u001b[38;5;28;01mif\u001b[39;00m left \u001b[38;5;129;01mis\u001b[39;00m \u001b[38;5;28;01mNone\u001b[39;00m \u001b[38;5;129;01mor\u001b[39;00m left\u001b[38;5;241m.\u001b[39mdtype\u001b[38;5;241m.\u001b[39mkind \u001b[38;5;241m==\u001b[39m \u001b[38;5;124m\"\u001b[39m\u001b[38;5;124mb\u001b[39m\u001b[38;5;124m\"\u001b[39m:\n\u001b[0;32m--> 420\u001b[0m     x \u001b[38;5;241m=\u001b[39m x\u001b[38;5;241m.\u001b[39mastype(\u001b[38;5;28mbool\u001b[39m)\n\u001b[1;32m    421\u001b[0m \u001b[38;5;28;01mreturn\u001b[39;00m x\n",
      "\u001b[0;31mKeyboardInterrupt\u001b[0m: "
     ]
    }
   ],
   "source": [
    "from tqdm import tqdm\n",
    "\n",
    "regression_rows = []\n",
    "\n",
    "for index, row in tqdm(df_measure.iterrows(), total=len(df_measure)):\n",
    "    measurement_time = row[\"recorded_at\"]\n",
    "    parameter = \"temperature_air_mean_2m\"\n",
    "\n",
    "    forecast_rows_measure_time = df_forecasts[\n",
    "        (df_forecasts[\"forecast_time\"] == measurement_time) &\n",
    "        (df_forecasts[\"parameter\"] == reverse_parameter_mapping[parameter])\n",
    "    ]\n",
    "\n",
    "    for n in range(1, 241):\n",
    "        filter_time = measurement_time - pd.Timedelta(hours=n)\n",
    "\n",
    "        forecast_rows = forecast_rows_measure_time[\n",
    "         (forecast_rows_measure_time[\"recorded_at\"] == filter_time)\n",
    "        ]\n",
    "\n",
    "        for index2, forecast_row in forecast_rows.iterrows():\n",
    "            regression_rows.append((row[\"value\"], measurement_time, parameter))\n",
    "\n",
    "regression_df = pd.DataFrame(regression_rows, columns=[\"value\", \"measure_time\", \"parameter\"])\n",
    "print(regression_df.head())"
   ]
  },
  {
   "cell_type": "code",
   "execution_count": 37,
   "id": "cc5704ae-de20-4007-9ac7-c4da121a1e03",
   "metadata": {},
   "outputs": [
    {
     "name": "stdout",
     "output_type": "stream",
     "text": [
      "[ 433 1270 1443 2667 3379 4104 5906]\n"
     ]
    }
   ],
   "source": [
    "print(rows.station_id.unique())"
   ]
  },
  {
   "cell_type": "code",
   "execution_count": 44,
   "id": "5bbb7489-69de-4467-a44e-4e6024684411",
   "metadata": {},
   "outputs": [],
   "source": [
    "from sklearn.linear_model import LinearRegression\n",
    "\n",
    "\n",
    "X_rain = regression_df[regression_df[\"parameter\"] == \"temperature_air_mean_2m\"].value\n",
    "y = rows.value.mean()"
   ]
  },
  {
   "cell_type": "code",
   "execution_count": null,
   "id": "d72d9de3-0b5b-46d7-847c-0601ca4d1b10",
   "metadata": {},
   "outputs": [],
   "source": []
  }
 ],
 "metadata": {
  "kernelspec": {
   "display_name": "Python 3 (ipykernel)",
   "language": "python",
   "name": "python3"
  },
  "language_info": {
   "codemirror_mode": {
    "name": "ipython",
    "version": 3
   },
   "file_extension": ".py",
   "mimetype": "text/x-python",
   "name": "python",
   "nbconvert_exporter": "python",
   "pygments_lexer": "ipython3",
   "version": "3.11.11"
  }
 },
 "nbformat": 4,
 "nbformat_minor": 5
}
