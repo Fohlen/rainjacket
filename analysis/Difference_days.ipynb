{
 "cells": [
  {
   "cell_type": "markdown",
   "id": "a49672a4-fce8-4021-b057-d332081784dd",
   "metadata": {},
   "source": [
    "In this notebook, we want to clarify the following question:\n",
    "\n",
    "- for every measurement, we want to know the average temperature difference between forecasted and actual measurements\n",
    "- all forecasts within the same day are clustered into one measurement\n",
    "- the resulting plot should be a violin plot of 12 bars for the 12 forecast days\n",
    "\n",
    "First, we load forecasts:"
   ]
  },
  {
   "cell_type": "code",
   "execution_count": 95,
   "id": "96a41646-12cb-4b15-b40a-1a5c725ce2db",
   "metadata": {},
   "outputs": [
    {
     "data": {
      "text/html": [
       "<div>\n",
       "<style scoped>\n",
       "    .dataframe tbody tr th:only-of-type {\n",
       "        vertical-align: middle;\n",
       "    }\n",
       "\n",
       "    .dataframe tbody tr th {\n",
       "        vertical-align: top;\n",
       "    }\n",
       "\n",
       "    .dataframe thead th {\n",
       "        text-align: right;\n",
       "    }\n",
       "</style>\n",
       "<table border=\"1\" class=\"dataframe\">\n",
       "  <thead>\n",
       "    <tr style=\"text-align: right;\">\n",
       "      <th></th>\n",
       "      <th>recorded_at</th>\n",
       "      <th>station_id</th>\n",
       "      <th>forecast_time</th>\n",
       "      <th>parameter</th>\n",
       "      <th>value</th>\n",
       "    </tr>\n",
       "  </thead>\n",
       "  <tbody>\n",
       "    <tr>\n",
       "      <th>0</th>\n",
       "      <td>2024-05-12 15:00:17.390012+00:00</td>\n",
       "      <td>10513</td>\n",
       "      <td>2024-05-12 15:00:00+00:00</td>\n",
       "      <td>precipitation_height_significant_weather_last_1h</td>\n",
       "      <td>0.0</td>\n",
       "    </tr>\n",
       "    <tr>\n",
       "      <th>1</th>\n",
       "      <td>2024-05-12 15:00:17.390012+00:00</td>\n",
       "      <td>10513</td>\n",
       "      <td>2024-05-12 16:00:00+00:00</td>\n",
       "      <td>precipitation_height_significant_weather_last_1h</td>\n",
       "      <td>0.0</td>\n",
       "    </tr>\n",
       "    <tr>\n",
       "      <th>2</th>\n",
       "      <td>2024-05-12 15:00:17.390012+00:00</td>\n",
       "      <td>10513</td>\n",
       "      <td>2024-05-12 17:00:00+00:00</td>\n",
       "      <td>precipitation_height_significant_weather_last_1h</td>\n",
       "      <td>0.0</td>\n",
       "    </tr>\n",
       "    <tr>\n",
       "      <th>3</th>\n",
       "      <td>2024-05-12 15:00:17.390012+00:00</td>\n",
       "      <td>10513</td>\n",
       "      <td>2024-05-12 18:00:00+00:00</td>\n",
       "      <td>precipitation_height_significant_weather_last_1h</td>\n",
       "      <td>0.0</td>\n",
       "    </tr>\n",
       "    <tr>\n",
       "      <th>4</th>\n",
       "      <td>2024-05-12 15:00:17.390012+00:00</td>\n",
       "      <td>10513</td>\n",
       "      <td>2024-05-12 19:00:00+00:00</td>\n",
       "      <td>precipitation_height_significant_weather_last_1h</td>\n",
       "      <td>0.0</td>\n",
       "    </tr>\n",
       "  </tbody>\n",
       "</table>\n",
       "</div>"
      ],
      "text/plain": [
       "                       recorded_at  station_id             forecast_time  \\\n",
       "0 2024-05-12 15:00:17.390012+00:00       10513 2024-05-12 15:00:00+00:00   \n",
       "1 2024-05-12 15:00:17.390012+00:00       10513 2024-05-12 16:00:00+00:00   \n",
       "2 2024-05-12 15:00:17.390012+00:00       10513 2024-05-12 17:00:00+00:00   \n",
       "3 2024-05-12 15:00:17.390012+00:00       10513 2024-05-12 18:00:00+00:00   \n",
       "4 2024-05-12 15:00:17.390012+00:00       10513 2024-05-12 19:00:00+00:00   \n",
       "\n",
       "                                          parameter  value  \n",
       "0  precipitation_height_significant_weather_last_1h    0.0  \n",
       "1  precipitation_height_significant_weather_last_1h    0.0  \n",
       "2  precipitation_height_significant_weather_last_1h    0.0  \n",
       "3  precipitation_height_significant_weather_last_1h    0.0  \n",
       "4  precipitation_height_significant_weather_last_1h    0.0  "
      ]
     },
     "execution_count": 95,
     "metadata": {},
     "output_type": "execute_result"
    }
   ],
   "source": [
    "import pandas as pd\n",
    "\n",
    "df_forecasts = pd.read_csv(\"/Users/fohlen/Downloads/export_2024-11-08/merged.csv\")\n",
    "df_forecasts[\"recorded_at\"] = pd.to_datetime(df_forecasts[\"recorded_at\"], utc=True)\n",
    "df_forecasts[\"forecast_time\"] = pd.to_datetime(df_forecasts[\"forecast_time\"], utc=True)\n",
    "df_forecasts.head()"
   ]
  },
  {
   "cell_type": "code",
   "execution_count": null,
   "id": "40807f6f-f6b9-4e6f-a6da-341ca1eac16a",
   "metadata": {},
   "outputs": [],
   "source": []
  },
  {
   "cell_type": "markdown",
   "id": "96f00ceb-4813-4baa-8867-e87cf485b665",
   "metadata": {},
   "source": [
    "And the actual measurements:"
   ]
  },
  {
   "cell_type": "code",
   "execution_count": 96,
   "id": "4758e932-bbeb-4d76-a74d-550b18a43abf",
   "metadata": {},
   "outputs": [
    {
     "data": {
      "text/html": [
       "<div>\n",
       "<style scoped>\n",
       "    .dataframe tbody tr th:only-of-type {\n",
       "        vertical-align: middle;\n",
       "    }\n",
       "\n",
       "    .dataframe tbody tr th {\n",
       "        vertical-align: top;\n",
       "    }\n",
       "\n",
       "    .dataframe thead th {\n",
       "        text-align: right;\n",
       "    }\n",
       "</style>\n",
       "<table border=\"1\" class=\"dataframe\">\n",
       "  <thead>\n",
       "    <tr style=\"text-align: right;\">\n",
       "      <th></th>\n",
       "      <th>recorded_at</th>\n",
       "      <th>station_id</th>\n",
       "      <th>parameter</th>\n",
       "      <th>value</th>\n",
       "    </tr>\n",
       "  </thead>\n",
       "  <tbody>\n",
       "    <tr>\n",
       "      <th>0</th>\n",
       "      <td>2024-05-06 00:00:00+00:00</td>\n",
       "      <td>433</td>\n",
       "      <td>precipitation_height</td>\n",
       "      <td>0.0</td>\n",
       "    </tr>\n",
       "    <tr>\n",
       "      <th>1</th>\n",
       "      <td>2024-05-06 01:00:00+00:00</td>\n",
       "      <td>433</td>\n",
       "      <td>precipitation_height</td>\n",
       "      <td>0.0</td>\n",
       "    </tr>\n",
       "    <tr>\n",
       "      <th>2</th>\n",
       "      <td>2024-05-06 02:00:00+00:00</td>\n",
       "      <td>433</td>\n",
       "      <td>precipitation_height</td>\n",
       "      <td>0.0</td>\n",
       "    </tr>\n",
       "    <tr>\n",
       "      <th>3</th>\n",
       "      <td>2024-05-06 03:00:00+00:00</td>\n",
       "      <td>433</td>\n",
       "      <td>precipitation_height</td>\n",
       "      <td>0.0</td>\n",
       "    </tr>\n",
       "    <tr>\n",
       "      <th>4</th>\n",
       "      <td>2024-05-06 04:00:00+00:00</td>\n",
       "      <td>433</td>\n",
       "      <td>precipitation_height</td>\n",
       "      <td>0.0</td>\n",
       "    </tr>\n",
       "  </tbody>\n",
       "</table>\n",
       "</div>"
      ],
      "text/plain": [
       "                recorded_at  station_id             parameter  value\n",
       "0 2024-05-06 00:00:00+00:00         433  precipitation_height    0.0\n",
       "1 2024-05-06 01:00:00+00:00         433  precipitation_height    0.0\n",
       "2 2024-05-06 02:00:00+00:00         433  precipitation_height    0.0\n",
       "3 2024-05-06 03:00:00+00:00         433  precipitation_height    0.0\n",
       "4 2024-05-06 04:00:00+00:00         433  precipitation_height    0.0"
      ]
     },
     "execution_count": 96,
     "metadata": {},
     "output_type": "execute_result"
    }
   ],
   "source": [
    "df_measure = pd.read_csv(\"data/historical_weather.csv\")\n",
    "df_measure[\"recorded_at\"] = pd.to_datetime(df_measure[\"recorded_at\"], utc=True)\n",
    "df_measure.head()"
   ]
  },
  {
   "cell_type": "markdown",
   "id": "4f13567b-b6f8-4b1b-9eef-dd9da32fd915",
   "metadata": {},
   "source": [
    "We also need to define a mapping between the MOSMIX region projections and the actual weather station ids, as well as the parameter mapping:"
   ]
  },
  {
   "cell_type": "code",
   "execution_count": 90,
   "id": "e4f77f14-653c-4368-bdd3-196423f6525b",
   "metadata": {},
   "outputs": [],
   "source": [
    "reverse_station_mapping = {\n",
    "    433: 10384, 2667: 10513, 3379: 10865, 1443: 10803, \n",
    "    5906: 10729, 2522: 10727, 4104: 10776, 1270: 10554, \n",
    "    5419: 10555\n",
    "}\n",
    "\n",
    "reverse_parameter_mapping = {\n",
    "    'precipitation_height': 'precipitation_height_significant_weather_last_1h',\n",
    "    'temperature_air_mean_2m': 'temperature_air_mean_200'\n",
    "}"
   ]
  },
  {
   "cell_type": "markdown",
   "id": "0fbe60be-e0fa-483e-936d-b7af37a7cb86",
   "metadata": {},
   "source": [
    "In the next section we:\n",
    "\n",
    "- iterate through every hour in the measurements\n",
    "- filter the forecast dataframe by station id and forecasted time\n",
    "- bin the measured time of the forecast by daily frequency\n",
    "- calculate the distance between the forecast and measurement\n",
    "- put the difference into a binned results dictionary"
   ]
  },
  {
   "cell_type": "code",
   "execution_count": 123,
   "id": "509eeaf5-7655-4684-9755-95877936e2c6",
   "metadata": {},
   "outputs": [
    {
     "name": "stderr",
     "output_type": "stream",
     "text": [
      "100%|█████████████████████████████████████████████████████████████████████████████████████████████████████████████████████████████████████████| 3330/3330 [43:42<00:00,  1.27it/s]\n"
     ]
    }
   ],
   "source": [
    "from typing import Mapping\n",
    "from itertools import product\n",
    "from collections import defaultdict\n",
    "from tqdm.contrib.concurrent import thread_map\n",
    "\n",
    "min_recorded = df_measure.recorded_at.min()\n",
    "max_recorded = df_measure.recorded_at.max()\n",
    "#min_recorded = pd.to_datetime(\"2024-08-01\", utc=True)\n",
    "#max_recorded = pd.to_datetime(\"2024-08-02\", utc=True)\n",
    "\n",
    "measure_times = pd.date_range(min_recorded, max_recorded, freq=\"1d\").tolist()\n",
    "station_ids = list(reverse_station_mapping.keys())\n",
    "parameters = list(reverse_parameter_mapping.keys())\n",
    "\n",
    "\n",
    "Difference = Mapping[int, list[int]]\n",
    "\n",
    "\n",
    "def compute_differences(\n",
    "    *args\n",
    ") -> tuple[Difference, Difference]:\n",
    "    measure_time, station_id, parameter = args[0]\n",
    "    daily_difference_rain = defaultdict(list)\n",
    "    daily_difference_temp = defaultdict(list)\n",
    "\n",
    "    rows_measure = df_measure[\n",
    "        (df_measure.recorded_at == measure_time) &\n",
    "        (df_measure.station_id == station_id) &\n",
    "        (df_measure.parameter == parameter)\n",
    "    ]\n",
    "\n",
    "    if (len(rows_measure)):\n",
    "        value = rows_measure.value.iloc[0]\n",
    "\n",
    "        forecast_rows = df_forecasts[\n",
    "            (df_forecasts[\"forecast_time\"] == measure_time) &\n",
    "            (df_forecasts[\"station_id\"] == reverse_station_mapping[station_id]) &\n",
    "            (df_forecasts[\"parameter\"] == reverse_parameter_mapping[parameter])\n",
    "        ]\n",
    "    \n",
    "        for name, group in forecast_rows.groupby(forecast_rows.recorded_at.dt.date):\n",
    "                day_diff = (measure_time - group.recorded_at.max()).days\n",
    "                \n",
    "                for index, row in group.iterrows():\n",
    "                        diff = abs(row[\"value\"] - value)\n",
    "                            \n",
    "                        if parameter == \"precipitation_height\":\n",
    "                            daily_difference_rain[day_diff].append(diff)\n",
    "                        else:\n",
    "                            daily_difference_temp[day_diff].append(diff)\n",
    "\n",
    "    return daily_difference_rain, daily_difference_temp\n",
    "\n",
    "\n",
    "def merge_diffs(differences: list[tuple[Difference, Difference]]) -> tuple[Difference, Difference]:\n",
    "    daily_difference_rain = defaultdict(list)\n",
    "    daily_difference_temp = defaultdict(list)\n",
    "\n",
    "    for d1, d2 in differences:\n",
    "        for key, value in d1.items():\n",
    "            daily_difference_rain[key].extend(value)\n",
    "\n",
    "        for key, value in d2.items():\n",
    "            daily_difference_temp[key].extend(value)\n",
    "\n",
    "    return daily_difference_rain, daily_difference_temp\n",
    "\n",
    "\n",
    "param_grid = list(product(measure_times, station_ids, parameters))\n",
    "\n",
    "diffs = thread_map(compute_differences, param_grid)\n",
    "merged_diffs = merge_diffs(diffs)"
   ]
  },
  {
   "cell_type": "markdown",
   "id": "b96064b9-0176-4e3d-ae75-80aeb0849e2f",
   "metadata": {},
   "source": [
    "After calculating the flat differences, we should create a dataframe:"
   ]
  },
  {
   "cell_type": "code",
   "execution_count": 124,
   "id": "d1e75b14-d3ab-4611-b281-4034eff63017",
   "metadata": {},
   "outputs": [],
   "source": [
    "dfs_rain = [\n",
    "    pd.DataFrame({day: pd.Series(values)}) \n",
    "    for day, values in merged_diffs[0].items()\n",
    "]\n",
    "\n",
    "df_rain = pd.concat(dfs_rain, axis=1) \n",
    "\n",
    "dfs_sun = [\n",
    "    pd.DataFrame({day: pd.Series(values)}) \n",
    "    for day, values in merged_diffs[1].items()\n",
    "]\n",
    "\n",
    "df_sun = pd.concat(dfs_sun, axis=1) "
   ]
  },
  {
   "cell_type": "markdown",
   "id": "9a5da32b-7d79-4004-b9a0-0a1ee351cf78",
   "metadata": {},
   "source": [
    "And finally visualize it in a violin plot"
   ]
  },
  {
   "cell_type": "code",
   "execution_count": 129,
   "id": "65a0e402-ff24-4161-9cfc-7328d7fd12b7",
   "metadata": {},
   "outputs": [
    {
     "data": {
      "image/png": "[encoded data removed]",
      "text/plain": [
       "<Figure size 1000x500 with 2 Axes>"
      ]
     },
     "metadata": {},
     "output_type": "display_data"
    }
   ],
   "source": [
    "import seaborn as sns\n",
    "import matplotlib.pyplot as plt\n",
    "\n",
    "fig, axs = plt.subplots(1, 2, figsize=(10, 5))\n",
    "\n",
    "sns.violinplot(df_rain, ax=axs[0])\n",
    "axs[0].set_title(\"diff in mm rain by days\")\n",
    "sns.violinplot(df_sun, ax=axs[1])\n",
    "axs[1].set_title(\"diff in degrees F by days\") \n",
    "\n",
    "plt.show()"
   ]
  },
  {
   "cell_type": "code",
   "execution_count": null,
   "id": "1dce0edd-2c88-4613-b663-3bb77905d806",
   "metadata": {},
   "outputs": [],
   "source": []
  }
 ],
 "metadata": {
  "kernelspec": {
   "display_name": "Python 3 (ipykernel)",
   "language": "python",
   "name": "python3"
  },
  "language_info": {
   "codemirror_mode": {
    "name": "ipython",
    "version": 3
   },
   "file_extension": ".py",
   "mimetype": "text/x-python",
   "name": "python",
   "nbconvert_exporter": "python",
   "pygments_lexer": "ipython3",
   "version": "3.11.11"
  }
 },
 "nbformat": 4,
 "nbformat_minor": 5
}
